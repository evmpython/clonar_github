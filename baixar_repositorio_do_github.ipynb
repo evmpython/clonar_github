{
  "nbformat": 4,
  "nbformat_minor": 0,
  "metadata": {
    "colab": {
      "name": "baixar_repositorio_do_github.ipynb",
      "provenance": [],
      "collapsed_sections": [],
      "mount_file_id": "1zUTNfOtUXPpXgS_Vm3MNMQAWJfE0LcLH",
      "authorship_tag": "ABX9TyPc+G3JpErDq//UDJfom4z+",
      "include_colab_link": true
    },
    "kernelspec": {
      "name": "python3",
      "display_name": "Python 3"
    },
    "language_info": {
      "name": "python"
    }
  },
  "cells": [
    {
      "cell_type": "markdown",
      "metadata": {
        "id": "view-in-github",
        "colab_type": "text"
      },
      "source": [
        "<a href=\"https://colab.research.google.com/github/evmpython/clonar_github/blob/main/baixar_repositorio_do_github.ipynb\" target=\"_parent\"><img src=\"https://colab.research.google.com/assets/colab-badge.svg\" alt=\"Open In Colab\"/></a>"
      ]
    },
    {
      "cell_type": "markdown",
      "source": [
        "**Vídeo explicativo**:\n",
        "- https://www.youtube.com/watch?v=K4VaFEOxARI&t=82s"
      ],
      "metadata": {
        "id": "8Hf_0MsjXLqD"
      }
    },
    {
      "cell_type": "markdown",
      "source": [
        "#**1) Como salvar um código do Google Colab para o GitHub**"
      ],
      "metadata": {
        "id": "dUJhInSAT0-E"
      }
    },
    {
      "cell_type": "markdown",
      "source": [
        "1. Abrir o código colab\n",
        "2. Em **File** (canto superior esquerdo da tela) acessar **Save a copy in Github**\n",
        "3. Autorizar Colaboratory. Clicar em **Authorize googlecolab** e confirmar o **password**\n",
        "4. Escolher o **repositório** "
      ],
      "metadata": {
        "id": "rtXqM2AJVIxZ"
      }
    },
    {
      "cell_type": "markdown",
      "source": [
        "#**2) Como salvar ('clonar') um repostitório do GitHub para o Google Colab**\n"
      ],
      "metadata": {
        "id": "fDZlrpJKTyHU"
      }
    },
    {
      "cell_type": "markdown",
      "source": [
        "- **Montar Drive**"
      ],
      "metadata": {
        "id": "w0erE4gsbHtb"
      }
    },
    {
      "cell_type": "code",
      "source": [
        "from google.colab import drive\n",
        "drive.mount('/content/drive')"
      ],
      "metadata": {
        "colab": {
          "base_uri": "https://localhost:8080/"
        },
        "id": "_DdcXKcObNEu",
        "outputId": "2c1b7c71-47e8-4cc7-8aa1-4443531504cd"
      },
      "execution_count": null,
      "outputs": [
        {
          "output_type": "stream",
          "name": "stdout",
          "text": [
            "Drive already mounted at /content/drive; to attempt to forcibly remount, call drive.mount(\"/content/drive\", force_remount=True).\n"
          ]
        }
      ]
    },
    {
      "cell_type": "markdown",
      "source": [
        "- **Entra na pasta onde será baixado o repositório**"
      ],
      "metadata": {
        "id": "U5RlvhMGbavS"
      }
    },
    {
      "cell_type": "code",
      "source": [
        "%pwd"
      ],
      "metadata": {
        "colab": {
          "base_uri": "https://localhost:8080/",
          "height": 36
        },
        "id": "mYg9-Ip8W7Rn",
        "outputId": "b0225a84-c996-4726-d48e-7d5081fa55a8"
      },
      "execution_count": null,
      "outputs": [
        {
          "output_type": "execute_result",
          "data": {
            "application/vnd.google.colaboratory.intrinsic+json": {
              "type": "string"
            },
            "text/plain": [
              "'/content/drive/MyDrive/temporario_github/relevo'"
            ]
          },
          "metadata": {},
          "execution_count": 22
        }
      ]
    },
    {
      "cell_type": "code",
      "source": [
        "# Criar uma pasta no seu drive chamada \"temporario_github\"\n",
        "cd '/content/drive/My Drive/temporario_github'"
      ],
      "metadata": {
        "colab": {
          "base_uri": "https://localhost:8080/",
          "height": 135
        },
        "id": "H-r3uLcMXrCN",
        "outputId": "741a423f-d8a9-4dcd-a80d-6fa4159d10d0"
      },
      "execution_count": null,
      "outputs": [
        {
          "output_type": "error",
          "ename": "SyntaxError",
          "evalue": "ignored",
          "traceback": [
            "\u001b[0;36m  File \u001b[0;32m\"<ipython-input-20-0bfe8dec7f86>\"\u001b[0;36m, line \u001b[0;32m2\u001b[0m\n\u001b[0;31m    cd '/content/drive/My Drive/temporario_github'\u001b[0m\n\u001b[0m                                                 ^\u001b[0m\n\u001b[0;31mSyntaxError\u001b[0m\u001b[0;31m:\u001b[0m invalid syntax\n"
          ]
        }
      ]
    },
    {
      "cell_type": "code",
      "source": [
        "%pwd"
      ],
      "metadata": {
        "colab": {
          "base_uri": "https://localhost:8080/",
          "height": 36
        },
        "id": "p_uaPSZtXrFB",
        "outputId": "ce5c8c2c-3389-4c1d-a694-fa6b12a0d6b3"
      },
      "execution_count": null,
      "outputs": [
        {
          "output_type": "execute_result",
          "data": {
            "application/vnd.google.colaboratory.intrinsic+json": {
              "type": "string"
            },
            "text/plain": [
              "'/content/drive/MyDrive/temporario_github'"
            ]
          },
          "metadata": {},
          "execution_count": 14
        }
      ]
    },
    {
      "cell_type": "markdown",
      "source": [
        "- **Clona o repositório para o seu drive**"
      ],
      "metadata": {
        "id": "L-LnM6QHboBv"
      }
    },
    {
      "cell_type": "code",
      "execution_count": null,
      "metadata": {
        "id": "G7ADe6iBRvAJ",
        "colab": {
          "base_uri": "https://localhost:8080/"
        },
        "outputId": "2ebbcc0d-b265-479f-fc5e-b7db99a54fb1"
      },
      "outputs": [
        {
          "output_type": "stream",
          "name": "stdout",
          "text": [
            "Cloning into 'relevo'...\n",
            "remote: Enumerating objects: 12, done.\u001b[K\n",
            "remote: Counting objects: 100% (12/12), done.\u001b[K\n",
            "remote: Compressing objects: 100% (11/11), done.\u001b[K\n",
            "remote: Total 12 (delta 3), reused 0 (delta 0), pack-reused 0\u001b[K\n",
            "Unpacking objects: 100% (12/12), done.\n"
          ]
        }
      ],
      "source": [
        "# copiar o link do repositório do GitHub abaixo\n",
        "!git clone https://github.com/evmpython/relevo.git"
      ]
    },
    {
      "cell_type": "code",
      "source": [
        "cd '/content/drive/My Drive/temporario_github/relevo/'"
      ],
      "metadata": {
        "colab": {
          "base_uri": "https://localhost:8080/"
        },
        "id": "XbunbaaPTzg6",
        "outputId": "164fa685-66cc-43d1-eb71-55f2595cb240"
      },
      "execution_count": null,
      "outputs": [
        {
          "output_type": "stream",
          "name": "stdout",
          "text": [
            "/content/drive/My Drive/temporario_github/relevo\n"
          ]
        }
      ]
    },
    {
      "cell_type": "code",
      "source": [
        "%pwd"
      ],
      "metadata": {
        "colab": {
          "base_uri": "https://localhost:8080/",
          "height": 36
        },
        "id": "_NJ3r4CqT2ym",
        "outputId": "03c2e0f0-1a15-4955-e1f6-6d130563d270"
      },
      "execution_count": null,
      "outputs": [
        {
          "output_type": "execute_result",
          "data": {
            "application/vnd.google.colaboratory.intrinsic+json": {
              "type": "string"
            },
            "text/plain": [
              "'/content/drive/My Drive/temporario_github/relevo'"
            ]
          },
          "metadata": {},
          "execution_count": 16
        }
      ]
    },
    {
      "cell_type": "code",
      "source": [
        "!ls"
      ],
      "metadata": {
        "colab": {
          "base_uri": "https://localhost:8080/"
        },
        "id": "uean4fMDYwJL",
        "outputId": "157627bf-cd25-4c2c-c3d3-df6d65570360"
      },
      "execution_count": null,
      "outputs": [
        {
          "output_type": "stream",
          "name": "stdout",
          "text": [
            "CAT016_Aula_01_plota_relevo_Colab.ipynb\n",
            "CAT016_Aula_01_plota_relevo_FINAL_Colab.ipynb\n",
            "gebco_2021_n-15.0_s-30.0_w-55.0_e-40.0.tif\n",
            "README.md\n"
          ]
        }
      ]
    },
    {
      "cell_type": "code",
      "source": [
        ""
      ],
      "metadata": {
        "id": "AlwRKbscYxGO"
      },
      "execution_count": null,
      "outputs": []
    }
  ]
}